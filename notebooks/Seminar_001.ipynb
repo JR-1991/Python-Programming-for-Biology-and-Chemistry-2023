{
 "cells": [
  {
   "cell_type": "markdown",
   "id": "b6a728b2-fc2f-40d4-ada3-a876cdac0999",
   "metadata": {},
   "source": [
    "# Seminar 001: Python fundamentals"
   ]
  },
  {
   "cell_type": "markdown",
   "id": "a8096bf6-a7f2-4345-91c1-e8ce8154646c",
   "metadata": {},
   "source": [
    "------"
   ]
  },
  {
   "cell_type": "markdown",
   "id": "8f4c3af9-a909-411f-ba4d-78d269cdb447",
   "metadata": {},
   "source": [
    "## Welcome to Jupyter!\n",
    "\n",
    "Jupyter is a coding environment that combines __documentation__ and __code__ which is very suitable for micropublications and to explain code. It is a new fundamental in scientific scripting that aids reproduciblity. Ultimately, Jupyter can help understanding what has been done better than a plain script.\n",
    "\n",
    "There are two types of cells:\n",
    "\n",
    "- __Code:__ Here the actual code will be executed\n",
    "- __Markdown:__ Explanations and any kind of text that helps understanding the code\n",
    "\n",
    "Each __code cell__ can be executed individually by using the __play-button__ or the key-combo `shift` + `enter`. New cells can be added by using the __plus-button (+)__ or the key-combo `alt` + `enter` which will execute the current cell and add a new one."
   ]
  },
  {
   "cell_type": "markdown",
   "id": "1348f1b6-6263-46c6-87ae-a15755908d16",
   "metadata": {},
   "source": [
    "## Using Python as a calculator"
   ]
  },
  {
   "cell_type": "code",
   "execution_count": 8,
   "id": "a9f887b5-8065-416f-bc99-a7d8e02ea251",
   "metadata": {},
   "outputs": [
    {
     "data": {
      "text/plain": [
       "12"
      ]
     },
     "execution_count": 8,
     "metadata": {},
     "output_type": "execute_result"
    }
   ],
   "source": [
    "10 + 2"
   ]
  },
  {
   "cell_type": "markdown",
   "id": "f44bdbad-1b48-465f-9d06-57f8796f1f24",
   "metadata": {},
   "source": [
    "## Variables"
   ]
  },
  {
   "cell_type": "markdown",
   "id": "1d367e90-9724-4b37-99b3-fb283ff0ddbd",
   "metadata": {
    "tags": []
   },
   "source": [
    "- Variables act as \"sticky notes\" attached to any kind of data or result\n",
    "- Most essential concept in programming\n",
    "- Can be accessed later on by using the variables name\n",
    "- Make sure to name your variable by its content"
   ]
  },
  {
   "cell_type": "code",
   "execution_count": 11,
   "id": "960efdca-21ca-45c7-b2d3-12b17250a511",
   "metadata": {},
   "outputs": [],
   "source": [
    "addition = 20 + 2"
   ]
  },
  {
   "cell_type": "code",
   "execution_count": 12,
   "id": "3c1d553d-766a-475a-9100-1d19f8baf346",
   "metadata": {},
   "outputs": [
    {
     "name": "stdout",
     "output_type": "stream",
     "text": [
      "22\n"
     ]
    }
   ],
   "source": [
    "print(addition)"
   ]
  },
  {
   "cell_type": "code",
   "execution_count": 13,
   "id": "b7b2db6f-27c2-45f9-a6aa-686d1c8ecdc0",
   "metadata": {},
   "outputs": [
    {
     "name": "stdout",
     "output_type": "stream",
     "text": [
      "220\n"
     ]
    }
   ],
   "source": [
    "product = addition * 10\n",
    "print(product)"
   ]
  },
  {
   "cell_type": "markdown",
   "id": "edd7a508-3d2a-4312-b484-2270d21512ed",
   "metadata": {},
   "source": [
    "## Data Types"
   ]
  },
  {
   "cell_type": "markdown",
   "id": "f8c6260a-50e0-44f4-b3e3-97df6e6f9a5d",
   "metadata": {
    "tags": []
   },
   "source": [
    "- Numbers: Integers (int) and Floating Point Numbers (float)\n",
    "- Strings: Collection of multiple characters (str)"
   ]
  },
  {
   "cell_type": "code",
   "execution_count": 14,
   "id": "d5335ae9-cea8-4d76-9fcc-c917287046ae",
   "metadata": {},
   "outputs": [
    {
     "data": {
      "text/plain": [
       "int"
      ]
     },
     "execution_count": 14,
     "metadata": {},
     "output_type": "execute_result"
    }
   ],
   "source": [
    "type(product)"
   ]
  },
  {
   "cell_type": "code",
   "execution_count": 15,
   "id": "809a1844-6cb8-4aee-91a3-fc7b247e090c",
   "metadata": {},
   "outputs": [
    {
     "data": {
      "text/plain": [
       "float"
      ]
     },
     "execution_count": 15,
     "metadata": {},
     "output_type": "execute_result"
    }
   ],
   "source": [
    "float_number = 10.01\n",
    "type(float_number)"
   ]
  },
  {
   "cell_type": "code",
   "execution_count": 17,
   "id": "071538eb-701d-42e3-85f2-9889427a27cf",
   "metadata": {},
   "outputs": [
    {
     "data": {
      "text/plain": [
       "float"
      ]
     },
     "execution_count": 17,
     "metadata": {},
     "output_type": "execute_result"
    }
   ],
   "source": [
    "add_float_to_int = 10 + 2.1\n",
    "type(add_float_to_int)"
   ]
  },
  {
   "cell_type": "code",
   "execution_count": 19,
   "id": "e0e2a1c3-5d7e-4053-a7f4-aff189c381d8",
   "metadata": {},
   "outputs": [
    {
     "data": {
      "text/plain": [
       "str"
      ]
     },
     "execution_count": 19,
     "metadata": {},
     "output_type": "execute_result"
    }
   ],
   "source": [
    "word = \"Hello world!\"\n",
    "type(word)"
   ]
  },
  {
   "cell_type": "code",
   "execution_count": 22,
   "id": "3f5deaa3-7696-407a-84df-be1254cadadf",
   "metadata": {},
   "outputs": [
    {
     "data": {
      "text/plain": [
       "'H'"
      ]
     },
     "execution_count": 22,
     "metadata": {},
     "output_type": "execute_result"
    }
   ],
   "source": [
    "word[0]"
   ]
  },
  {
   "cell_type": "code",
   "execution_count": 25,
   "id": "e5ae6a94-ec16-4e6d-9ac9-6dc6d1be7af1",
   "metadata": {},
   "outputs": [
    {
     "data": {
      "text/plain": [
       "'Hel'"
      ]
     },
     "execution_count": 25,
     "metadata": {},
     "output_type": "execute_result"
    }
   ],
   "source": [
    "word[0:3]"
   ]
  },
  {
   "cell_type": "code",
   "execution_count": 26,
   "id": "dfc49efc-0f63-4c3f-9ffc-7cc1431ee9f1",
   "metadata": {},
   "outputs": [
    {
     "ename": "TypeError",
     "evalue": "'str' object is not callable",
     "output_type": "error",
     "traceback": [
      "\u001b[0;31m---------------------------------------------------------------------------\u001b[0m",
      "\u001b[0;31mTypeError\u001b[0m                                 Traceback (most recent call last)",
      "Cell \u001b[0;32mIn[26], line 1\u001b[0m\n\u001b[0;32m----> 1\u001b[0m \u001b[43mword\u001b[49m\u001b[43m(\u001b[49m\u001b[38;5;241;43m0\u001b[39;49m\u001b[43m)\u001b[49m\n",
      "\u001b[0;31mTypeError\u001b[0m: 'str' object is not callable"
     ]
    }
   ],
   "source": [
    "word(0)"
   ]
  },
  {
   "cell_type": "code",
   "execution_count": 29,
   "id": "217d35fd-968a-4246-a1ee-cc4e754fa4d4",
   "metadata": {},
   "outputs": [
    {
     "ename": "TypeError",
     "evalue": "'builtin_function_or_method' object is not subscriptable",
     "output_type": "error",
     "traceback": [
      "\u001b[0;31m---------------------------------------------------------------------------\u001b[0m",
      "\u001b[0;31mTypeError\u001b[0m                                 Traceback (most recent call last)",
      "Cell \u001b[0;32mIn[29], line 1\u001b[0m\n\u001b[0;32m----> 1\u001b[0m \u001b[38;5;28;43mprint\u001b[39;49m\u001b[43m[\u001b[49m\u001b[38;5;241;43m10\u001b[39;49m\u001b[43m]\u001b[49m\n",
      "\u001b[0;31mTypeError\u001b[0m: 'builtin_function_or_method' object is not subscriptable"
     ]
    }
   ],
   "source": [
    "print[10]"
   ]
  },
  {
   "cell_type": "markdown",
   "id": "0c274eaf-567d-4ee5-8e4a-c60c1a5c4fc3",
   "metadata": {},
   "source": [
    "## Lists"
   ]
  },
  {
   "cell_type": "markdown",
   "id": "7c652332-08ba-4a67-993f-f5f58a734fae",
   "metadata": {
    "tags": []
   },
   "source": [
    "- Contains a sequence of arbitrary data types\n",
    "- Started with `[` followd by comma-separated entries and closed by `]`\n",
    "- Individual entries can be accessed using `int` indicies (`my_list[0]` for the first entry)\n",
    "- Order is important"
   ]
  },
  {
   "cell_type": "code",
   "execution_count": 30,
   "id": "3b9d7722-2810-4142-97d6-c20bb203e0ab",
   "metadata": {},
   "outputs": [],
   "source": [
    "t0 = 10.0\n",
    "t1 = 8.0\n",
    "t2 = 6.0\n",
    "t3 = 4.0"
   ]
  },
  {
   "cell_type": "code",
   "execution_count": 32,
   "id": "39e0f9dc-a506-4034-8e12-c9ddd6956bb8",
   "metadata": {},
   "outputs": [
    {
     "name": "stdout",
     "output_type": "stream",
     "text": [
      "[10.0, 8.0, 6.0, 4.0]\n"
     ]
    }
   ],
   "source": [
    "data = [10.0, 8.0, 6.0, 4.0]\n",
    "print(data)"
   ]
  },
  {
   "cell_type": "code",
   "execution_count": 34,
   "id": "46bd4791-1ac0-48d3-99c4-e70a71278007",
   "metadata": {},
   "outputs": [
    {
     "data": {
      "text/plain": [
       "10.0"
      ]
     },
     "execution_count": 34,
     "metadata": {},
     "output_type": "execute_result"
    }
   ],
   "source": [
    "data[0]"
   ]
  },
  {
   "cell_type": "code",
   "execution_count": 36,
   "id": "bb5c01b0-d536-4d21-861b-5b852757e499",
   "metadata": {},
   "outputs": [
    {
     "data": {
      "text/plain": [
       "4.0"
      ]
     },
     "execution_count": 36,
     "metadata": {},
     "output_type": "execute_result"
    }
   ],
   "source": [
    "data[-1]"
   ]
  },
  {
   "cell_type": "code",
   "execution_count": 38,
   "id": "c1572f79-dd35-4e03-a708-20a91756dab2",
   "metadata": {},
   "outputs": [
    {
     "ename": "IndexError",
     "evalue": "list index out of range",
     "output_type": "error",
     "traceback": [
      "\u001b[0;31m---------------------------------------------------------------------------\u001b[0m",
      "\u001b[0;31mIndexError\u001b[0m                                Traceback (most recent call last)",
      "Cell \u001b[0;32mIn[38], line 1\u001b[0m\n\u001b[0;32m----> 1\u001b[0m \u001b[43mdata\u001b[49m\u001b[43m[\u001b[49m\u001b[38;5;241;43m7\u001b[39;49m\u001b[43m]\u001b[49m\n",
      "\u001b[0;31mIndexError\u001b[0m: list index out of range"
     ]
    }
   ],
   "source": [
    "data[7]"
   ]
  },
  {
   "cell_type": "code",
   "execution_count": 39,
   "id": "bfc0ec5b-6baa-492b-819e-dfe72eccfd4d",
   "metadata": {},
   "outputs": [],
   "source": [
    "data.append(2.0)"
   ]
  },
  {
   "cell_type": "code",
   "execution_count": 41,
   "id": "c8518353-ccfb-476f-975c-afe8eb31e772",
   "metadata": {},
   "outputs": [
    {
     "name": "stdout",
     "output_type": "stream",
     "text": [
      "[10.0, 8.0, 6.0, 4.0, 2.0]\n"
     ]
    }
   ],
   "source": [
    "print(data)"
   ]
  },
  {
   "cell_type": "code",
   "execution_count": 43,
   "id": "dfc6112f-0c42-4315-a187-7bc243eb9dc7",
   "metadata": {},
   "outputs": [
    {
     "data": {
      "text/plain": [
       "list"
      ]
     },
     "execution_count": 43,
     "metadata": {},
     "output_type": "execute_result"
    }
   ],
   "source": [
    "type(data)"
   ]
  },
  {
   "cell_type": "code",
   "execution_count": 45,
   "id": "9f7771e0-9519-4db7-a71c-bbcc82bb66a9",
   "metadata": {},
   "outputs": [
    {
     "data": {
      "text/plain": [
       "True"
      ]
     },
     "execution_count": 45,
     "metadata": {},
     "output_type": "execute_result"
    }
   ],
   "source": [
    "isinstance(data, list)"
   ]
  },
  {
   "cell_type": "code",
   "execution_count": 46,
   "id": "e71a1717-f8d7-4a7b-a8a9-4baf7f510d8b",
   "metadata": {},
   "outputs": [
    {
     "data": {
      "text/plain": [
       "False"
      ]
     },
     "execution_count": 46,
     "metadata": {},
     "output_type": "execute_result"
    }
   ],
   "source": [
    "isinstance(data, float)"
   ]
  },
  {
   "cell_type": "markdown",
   "id": "043d6468-95df-449c-a287-ff61c295346c",
   "metadata": {},
   "source": [
    "## Dictionaries"
   ]
  },
  {
   "cell_type": "markdown",
   "id": "6c0b8223-4163-4df3-bfa3-3ecc304e8261",
   "metadata": {
    "tags": []
   },
   "source": [
    "- Mapping from a `key` to a `value`\n",
    "- Can be regarded as a collection of \"sticky notes\"\n",
    "- Behaves similar to a list, but that the indices are generalized to custom indices\n",
    "- Order is not important"
   ]
  },
  {
   "cell_type": "code",
   "execution_count": 47,
   "id": "99e9c98c-cc6e-4ea5-9e52-5874a61ace28",
   "metadata": {},
   "outputs": [],
   "source": [
    "# 0 1 2 ..\n",
    "# A B C .."
   ]
  },
  {
   "cell_type": "code",
   "execution_count": 49,
   "id": "46750df5-29e3-4f8c-b017-4fc3845c100f",
   "metadata": {},
   "outputs": [
    {
     "data": {
      "text/plain": [
       "{0: 10.0, 1: 8.0, 2: 6.0}"
      ]
     },
     "execution_count": 49,
     "metadata": {},
     "output_type": "execute_result"
    }
   ],
   "source": [
    "data_as_dict = {0: 10.0, 1: 8.0, 2: 6.0}\n",
    "data_as_dict"
   ]
  },
  {
   "cell_type": "code",
   "execution_count": 51,
   "id": "d7e5bdf1-010b-44e0-ad1d-515f2d7c0bf8",
   "metadata": {},
   "outputs": [
    {
     "data": {
      "text/plain": [
       "10.0"
      ]
     },
     "execution_count": 51,
     "metadata": {},
     "output_type": "execute_result"
    }
   ],
   "source": [
    "data_as_dict[0]"
   ]
  },
  {
   "cell_type": "code",
   "execution_count": 53,
   "id": "7fc5ff10-9b75-48b6-98eb-d4a86d8c48b8",
   "metadata": {},
   "outputs": [
    {
     "data": {
      "text/plain": [
       "6.0"
      ]
     },
     "execution_count": 53,
     "metadata": {},
     "output_type": "execute_result"
    }
   ],
   "source": [
    "data_as_dict[2]"
   ]
  },
  {
   "cell_type": "code",
   "execution_count": 55,
   "id": "03592b8c-3e8b-4fa0-a06a-59961b320e1f",
   "metadata": {},
   "outputs": [
    {
     "name": "stdout",
     "output_type": "stream",
     "text": [
      "{'data': [10.0, 8.0, 6.0], 'substrate': 'pyruvate'}\n"
     ]
    }
   ],
   "source": [
    "measurement = {\n",
    "    \"data\": [10.0, 8.0, 6.0],\n",
    "    \"substrate\": \"pyruvate\",\n",
    "}\n",
    "\n",
    "print(measurement)"
   ]
  },
  {
   "cell_type": "code",
   "execution_count": 56,
   "id": "5175e559-25ba-475f-b1f0-329387533b6d",
   "metadata": {},
   "outputs": [
    {
     "data": {
      "text/plain": [
       "'pyruvate'"
      ]
     },
     "execution_count": 56,
     "metadata": {},
     "output_type": "execute_result"
    }
   ],
   "source": [
    "measurement[\"substrate\"]"
   ]
  },
  {
   "cell_type": "code",
   "execution_count": 57,
   "id": "31c7ec71-f879-461c-b37a-8390c07cb34b",
   "metadata": {},
   "outputs": [
    {
     "data": {
      "text/plain": [
       "[10.0, 8.0, 6.0]"
      ]
     },
     "execution_count": 57,
     "metadata": {},
     "output_type": "execute_result"
    }
   ],
   "source": [
    "measurement[\"data\"]"
   ]
  },
  {
   "cell_type": "markdown",
   "id": "0691a453-62ee-45cd-9dc2-101841822952",
   "metadata": {
    "tags": []
   },
   "source": [
    "## For-loops"
   ]
  },
  {
   "cell_type": "markdown",
   "id": "805da471-34e4-43fe-a5b2-ae4eb76e1d6b",
   "metadata": {
    "jp-MarkdownHeadingCollapsed": true,
    "tags": []
   },
   "source": [
    "<center><img src=\"https://media.geeksforgeeks.org/wp-content/uploads/20191101172216/for-loop-python.jpg\" width=\"500\" height=\"500\"/></center>\n",
    "\n",
    "- Used to dynamically iterate over each entry in a list or dictionary\n",
    "- Helps solving the problem of individual accessing a list\n",
    "- Most used loop in Python and staright forward\n",
    "\n",
    "#### Procedure\n",
    "1. The for-loop \"pulls\" an entry per round from the list\n",
    "2. Stored in the \"variable scope\" to the name you've choosen e.g. `variable`\n",
    "3. Inside the \"body\" operations can be executed as usual\n",
    "\n",
    "#### Example\n",
    "\n",
    "```\n",
    "for variable in my_list:\n",
    "    # do something\n",
    "    print(variable * 2)\n",
    "```"
   ]
  },
  {
   "cell_type": "code",
   "execution_count": 58,
   "id": "48a10ad7-85d3-441a-ab38-4b823e6a710a",
   "metadata": {},
   "outputs": [
    {
     "data": {
      "text/plain": [
       "[10.0, 8.0, 6.0, 4.0, 2.0]"
      ]
     },
     "execution_count": 58,
     "metadata": {},
     "output_type": "execute_result"
    }
   ],
   "source": [
    "data"
   ]
  },
  {
   "cell_type": "code",
   "execution_count": 60,
   "id": "c0d5bf13-34b7-46c9-bbe3-55dfe133adbc",
   "metadata": {},
   "outputs": [
    {
     "name": "stdout",
     "output_type": "stream",
     "text": [
      "10.0 8.0 6.0\n"
     ]
    }
   ],
   "source": [
    "t0 = data[0]\n",
    "t1 = data[1]\n",
    "t2 = data[2]\n",
    "\n",
    "print(t0, t1, t2)"
   ]
  },
  {
   "cell_type": "code",
   "execution_count": 61,
   "id": "52c67510-1eba-452c-991c-3e60b487f6c3",
   "metadata": {},
   "outputs": [],
   "source": [
    "data = [10.0, 8.0]"
   ]
  },
  {
   "cell_type": "code",
   "execution_count": 63,
   "id": "2d9f996e-ff8e-422d-9bb2-796af755aaa6",
   "metadata": {},
   "outputs": [
    {
     "ename": "IndexError",
     "evalue": "list index out of range",
     "output_type": "error",
     "traceback": [
      "\u001b[0;31m---------------------------------------------------------------------------\u001b[0m",
      "\u001b[0;31mIndexError\u001b[0m                                Traceback (most recent call last)",
      "Cell \u001b[0;32mIn[63], line 3\u001b[0m\n\u001b[1;32m      1\u001b[0m t0 \u001b[38;5;241m=\u001b[39m data[\u001b[38;5;241m0\u001b[39m]\n\u001b[1;32m      2\u001b[0m t1 \u001b[38;5;241m=\u001b[39m data[\u001b[38;5;241m1\u001b[39m]\n\u001b[0;32m----> 3\u001b[0m t2 \u001b[38;5;241m=\u001b[39m \u001b[43mdata\u001b[49m\u001b[43m[\u001b[49m\u001b[38;5;241;43m2\u001b[39;49m\u001b[43m]\u001b[49m\n\u001b[1;32m      5\u001b[0m \u001b[38;5;28mprint\u001b[39m(t0, t1, t2)\n",
      "\u001b[0;31mIndexError\u001b[0m: list index out of range"
     ]
    }
   ],
   "source": [
    "t0 = data[0]\n",
    "t1 = data[1]\n",
    "t2 = data[2]\n",
    "\n",
    "print(t0, t1, t2)"
   ]
  },
  {
   "cell_type": "code",
   "execution_count": 68,
   "id": "6703fa45-8263-41e9-9d57-35a0e666bf77",
   "metadata": {},
   "outputs": [
    {
     "name": "stdout",
     "output_type": "stream",
     "text": [
      "12.0\n",
      "10.0\n"
     ]
    }
   ],
   "source": [
    "for value in data:\n",
    "    print(value + 2)"
   ]
  },
  {
   "cell_type": "code",
   "execution_count": 70,
   "id": "16354a10-178a-4955-8333-40197894f26f",
   "metadata": {},
   "outputs": [
    {
     "name": "stdout",
     "output_type": "stream",
     "text": [
      "Before the loop 99999.0\n",
      "After the loop 64.0\n"
     ]
    }
   ],
   "source": [
    "squared_value = 99999.0\n",
    "print(\"Before the loop\", squared_value)\n",
    "\n",
    "for value in data:\n",
    "    squared_value = value**2\n",
    "\n",
    "print(\"After the loop\", squared_value)"
   ]
  },
  {
   "cell_type": "code",
   "execution_count": 65,
   "id": "f18a6ddb-5514-4efa-8c13-9c2dc9ee38bf",
   "metadata": {},
   "outputs": [
    {
     "ename": "IndentationError",
     "evalue": "expected an indented block after 'for' statement on line 1 (215316611.py, line 2)",
     "output_type": "error",
     "traceback": [
      "\u001b[0;36m  Cell \u001b[0;32mIn[65], line 2\u001b[0;36m\u001b[0m\n\u001b[0;31m    print(value)\u001b[0m\n\u001b[0m    ^\u001b[0m\n\u001b[0;31mIndentationError\u001b[0m\u001b[0;31m:\u001b[0m expected an indented block after 'for' statement on line 1\n"
     ]
    }
   ],
   "source": [
    "for value in data:\n",
    "print(value)"
   ]
  },
  {
   "cell_type": "markdown",
   "id": "8e9891c5-b667-4399-8189-b00b4d2946ac",
   "metadata": {
    "tags": []
   },
   "source": [
    "## While-loops"
   ]
  },
  {
   "cell_type": "markdown",
   "id": "216e5b19-97a0-414d-9983-6e9faea3f174",
   "metadata": {
    "tags": []
   },
   "source": [
    "<center><img src=\"https://media.geeksforgeeks.org/wp-content/uploads/20191101170515/while-loop.jpg\" width=\"500\" height=\"500\"/></center>\n",
    "\n",
    "- Behaves similar to the for-loop\n",
    "- Stops whenever a specific condition is met, such as when a number is greater some value\n",
    "- Does __not__ pull entries from a list, thus it needs to be done manually\n",
    "- Needs a starting condition that is evaluated at each round\n",
    "- Can end up in an infinite loop\n",
    "- Rarely used and should only be considered when dealing with highly dynamic tasks\n",
    "\n",
    "#### Procedure\n",
    "\n",
    "1. Set up a starting condition and a termination condition\n",
    "2. Enter the body of the loop and perform the operation\n",
    "3. At the next iteration, the condition is tested\n",
    "4. If met, the loop continues. If not, the loop is terminated\n",
    "\n",
    "#### Example\n",
    "\n",
    "```\n",
    "index = 0\n",
    "\n",
    "while index <= 10:\n",
    "    print(index)\n",
    "    \n",
    "    # Index needs to be increased manually\n",
    "    index += 1\n",
    "```"
   ]
  },
  {
   "cell_type": "code",
   "execution_count": 73,
   "id": "ea66208c-5e0a-4f11-b81a-7d4d21b95eff",
   "metadata": {},
   "outputs": [
    {
     "name": "stdout",
     "output_type": "stream",
     "text": [
      "0\n",
      "1\n",
      "2\n",
      "3\n",
      "4\n",
      "5\n",
      "6\n",
      "7\n",
      "8\n",
      "9\n",
      "10\n"
     ]
    }
   ],
   "source": [
    "index = 0\n",
    "\n",
    "while index <= 10:\n",
    "    print(index)\n",
    "\n",
    "    # index = index + 1\n",
    "    index += 1"
   ]
  },
  {
   "cell_type": "code",
   "execution_count": 75,
   "id": "20152f7d-a689-44c2-af55-79e1b708eac6",
   "metadata": {},
   "outputs": [
    {
     "name": "stdout",
     "output_type": "stream",
     "text": [
      "10.0\n",
      "8.0\n"
     ]
    }
   ],
   "source": [
    "index = 0\n",
    "\n",
    "while index < len(data):\n",
    "    print(data[index])\n",
    "    index += 1"
   ]
  },
  {
   "cell_type": "markdown",
   "id": "04c01b16-b8f1-4b27-ad10-5d69daa94565",
   "metadata": {},
   "source": [
    "## Conditions"
   ]
  },
  {
   "cell_type": "markdown",
   "id": "6c5fc8cd-e234-4ea9-9c64-ce14ab376781",
   "metadata": {
    "tags": []
   },
   "source": [
    "- If-else statements are very important to deal with certain situations\n",
    "- Whenever a condition is met, the following code is executed\n",
    "- Optionally, an `else` statement can be used to deal with all situations that did not match the condition\n",
    "\n",
    "#### Using conditions wisely\n",
    "\n",
    "- Try to use as less as possible and as much as needed\n",
    "- Nesting too many `if`s is a sign of bad design\n",
    "- Sometimes it is helpful to deal with what you dont want (see [Guard clauses](https://medium.com/lemon-code/guard-clauses-3bc0cd96a2d3))"
   ]
  },
  {
   "cell_type": "code",
   "execution_count": 82,
   "id": "79992e9a-fdd0-4cb0-978a-97674fd5b5f5",
   "metadata": {},
   "outputs": [],
   "source": [
    "numbers = [1, 2, 3, 4, 5, 6, 7, 8, 9, 10]"
   ]
  },
  {
   "cell_type": "code",
   "execution_count": 100,
   "id": "6d2fb48c-7b8c-4b48-aba5-44f1f89d19d3",
   "metadata": {},
   "outputs": [
    {
     "name": "stdout",
     "output_type": "stream",
     "text": [
      "This number is odd 1\n",
      "This number is even 2\n",
      "This number is odd 3\n",
      "This number is even 4\n",
      "This number is odd 5\n",
      "This number is even 6\n",
      "This number is odd 7\n",
      "This number is even 8\n",
      "This number is odd 9\n",
      "This number is even 10\n"
     ]
    }
   ],
   "source": [
    "for number in numbers:\n",
    "\n",
    "    if number % 2 == 0.0:\n",
    "        print(\"This number is even\", number)\n",
    "    else:\n",
    "        print(\"This number is odd\", number)\n",
    "\n",
    "    # elif number % 2 != 0.0:\n",
    "    #    print(\"This number is odd\", number)"
   ]
  },
  {
   "cell_type": "code",
   "execution_count": 101,
   "id": "4651804d-4540-4296-a22e-79443a6b6be9",
   "metadata": {},
   "outputs": [
    {
     "name": "stdout",
     "output_type": "stream",
     "text": [
      "this one!\n"
     ]
    }
   ],
   "source": [
    "if 10 == 0:\n",
    "    pass\n",
    "elif 10 == 10:\n",
    "    print(\"this one!\")"
   ]
  },
  {
   "cell_type": "code",
   "execution_count": 89,
   "id": "5765db97-738a-44be-b2ce-f05a883c9bf6",
   "metadata": {},
   "outputs": [
    {
     "data": {
      "text/plain": [
       "5.5"
      ]
     },
     "execution_count": 89,
     "metadata": {},
     "output_type": "execute_result"
    }
   ],
   "source": [
    "# Normal division\n",
    "11 / 2"
   ]
  },
  {
   "cell_type": "code",
   "execution_count": 91,
   "id": "75e3ef96-388f-491b-8b85-e53c2299cf58",
   "metadata": {},
   "outputs": [
    {
     "data": {
      "text/plain": [
       "1"
      ]
     },
     "execution_count": 91,
     "metadata": {},
     "output_type": "execute_result"
    }
   ],
   "source": [
    "# Modulo\n",
    "11 % 2"
   ]
  },
  {
   "cell_type": "code",
   "execution_count": 99,
   "id": "f9b27df4-7bdf-4f05-a2ed-61aa2b02c7bf",
   "metadata": {},
   "outputs": [
    {
     "name": "stdout",
     "output_type": "stream",
     "text": [
      "True\n",
      "False\n",
      "True\n",
      "False\n",
      "True\n",
      "False\n"
     ]
    }
   ],
   "source": [
    "# Logical operator\n",
    "\n",
    "print(\"Is equal\" == \"Is equal\")\n",
    "print(\"Is equal\" != \"Is equal\")\n",
    "\n",
    "print( 10 > 0 )\n",
    "print( 10 < 0 )\n",
    "\n",
    "print( 10.0 in data)\n",
    "print( 10.0 not in data)"
   ]
  },
  {
   "cell_type": "markdown",
   "id": "81ba9cca-9839-42a6-96a2-334fcaba6be3",
   "metadata": {},
   "source": [
    "## Its all about the sauce"
   ]
  },
  {
   "cell_type": "markdown",
   "id": "bf641dbc-9fa6-4a44-90db-1b296cb2a3a7",
   "metadata": {
    "tags": []
   },
   "source": [
    "Navigating through the syntax jungle can be quite tempting and exhausting. However, most problems you will be confronted with have already been solved numerous times. Thus, knowing your __sources__ is the utmost important skill when programming. There are multiple sites where problems are discussed and solutions are given!\n",
    "\n",
    "#### Helpful sites\n",
    "\n",
    "- [StackOverflow](https://www.stackoverflow.com) - Probably the best site to search for help\n",
    "- [W3Schools Python](https://www.w3schools.com/python/) - Great overview of Pythons functionality\n",
    "- [PythonCheatSheet](https://www.pythoncheatsheet.org/) - Another great overview\n",
    "- [Google](https://www.google.com) - The most used tool in Software Development "
   ]
  }
 ],
 "metadata": {
  "kernelspec": {
   "display_name": "Python 3 (ipykernel)",
   "language": "python",
   "name": "python3"
  },
  "language_info": {
   "codemirror_mode": {
    "name": "ipython",
    "version": 3
   },
   "file_extension": ".py",
   "mimetype": "text/x-python",
   "name": "python",
   "nbconvert_exporter": "python",
   "pygments_lexer": "ipython3",
   "version": "3.10.9"
  }
 },
 "nbformat": 4,
 "nbformat_minor": 5
}
