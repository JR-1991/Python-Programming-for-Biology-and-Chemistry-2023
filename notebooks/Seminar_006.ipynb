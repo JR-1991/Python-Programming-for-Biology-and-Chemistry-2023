{
 "cells": [
  {
   "cell_type": "markdown",
   "id": "b6a728b2-fc2f-40d4-ada3-a876cdac0999",
   "metadata": {},
   "source": [
    "# Seminar 006: Object-Oriented Programming"
   ]
  },
  {
   "cell_type": "markdown",
   "id": "a8096bf6-a7f2-4345-91c1-e8ce8154646c",
   "metadata": {},
   "source": [
    "------"
   ]
  },
  {
   "cell_type": "markdown",
   "id": "0ecaf7e7-31a0-4e10-8e37-f4935402ce76",
   "metadata": {
    "tags": []
   },
   "source": [
    "## Classes in Python"
   ]
  },
  {
   "cell_type": "markdown",
   "id": "b8488f82-e868-4f4f-87d6-2dae4e0af927",
   "metadata": {},
   "source": [
    "In the following, I will show you HOW the process of instantiation of a class works. The code is just for demo and thus please ignore all the utterly technical terms I have marked as unnecessary. In general, the process of instantiation can be summarized in the following diagram."
   ]
  },
  {
   "cell_type": "markdown",
   "id": "4d5e40d7-4b6c-4f36-9825-c6bfd5f94a1b",
   "metadata": {},
   "source": [
    "[![](https://mermaid.ink/img/pako:eNpN0M1ugzAMB_BXsXxpJ7UvwKFSC520w07bDVCUEReiJqFKHG0IePelMKT55MPvL3-M2PSKMMPWy0cHn0XlINW5fB9yI0Oo4Xg8TS1xgEYaQ2qCy14IR99CgCXuevWyRi6L9MTRuwCBzG2CfBRCO81CzCvKF0Q_1ESmMEFRbgC-ejXUq7qWZ99GSy5N1Q42su4SwxJcZfF_6ASv5ZsLLF1DsHtusKvxgJa8lVqlG8dnqELuyFKFWWqV9PcKKzcnFx9KMl2V5t5jdpMm0AFl5P5jcA1m7CNtqNAy_cv-qfkXk4xtQg)](https://mermaid.live/edit#pako:eNpN0M1ugzAMB_BXsXxpJ7UvwKFSC520w07bDVCUEReiJqFKHG0IePelMKT55MPvL3-M2PSKMMPWy0cHn0XlINW5fB9yI0Oo4Xg8TS1xgEYaQ2qCy14IR99CgCXuevWyRi6L9MTRuwCBzG2CfBRCO81CzCvKF0Q_1ESmMEFRbgC-ejXUq7qWZ99GSy5N1Q42su4SwxJcZfF_6ASv5ZsLLF1DsHtusKvxgJa8lVqlG8dnqELuyFKFWWqV9PcKKzcnFx9KMl2V5t5jdpMm0AFl5P5jcA1m7CNtqNAy_cv-qfkXk4xtQg)"
   ]
  },
  {
   "cell_type": "code",
   "execution_count": 2,
   "id": "89dd4174-383d-49a5-8536-65e23ffe53cd",
   "metadata": {},
   "outputs": [],
   "source": [
    "number_of_instances = 0\n",
    "\n",
    "\n",
    "class Demo:\n",
    "    def __new__(cls):\n",
    "        \"\"\"\n",
    "        Whenever you call a \"class\" this method will be executed.\n",
    "        It is NOT important for your use cases, but it shows you\n",
    "        how the process works internally.\n",
    "        \"\"\"\n",
    "\n",
    "        # Disregard this, its for demo only\n",
    "        number_of_instances = globals()[\"number_of_instances\"]\n",
    "        globals()[\"number_of_instances\"] += 1\n",
    "\n",
    "        print(f\"Instance {number_of_instances} of the class has been created!\")\n",
    "\n",
    "        # This will create a DNASequence INSTANCE\n",
    "        # There can be as many instances as you wish\n",
    "\n",
    "        self = super(Demo, cls).__new__(cls)\n",
    "        self.number_of_instance = number_of_instances\n",
    "\n",
    "        return self\n",
    "\n",
    "    def __init__(self):\n",
    "        \"\"\"\n",
    "        In this method, the previously created \"self\" is passed,\n",
    "        such that we now can add new attributes to it. Similar,\n",
    "        to the example provided in the slides.\n",
    "\n",
    "        The arguments of the \"__init__\" are simply the gateway\n",
    "        to assign some values to the attributes. In this method\n",
    "        we are just making sure that they will be integrated.\n",
    "\n",
    "        Think about the \"__init__\" as the worker who transfers\n",
    "        your information to the \"architect\" that will build your\n",
    "        house from the \"blueprint\" that we have defined in the classs.\n",
    "        \"\"\"\n",
    "\n",
    "        print(\n",
    "            f\"We are now in the __init__ method of instance {self.number_of_instance}\"\n",
    "        )\n",
    "\n",
    "        \"\"\"\n",
    "        PLEASE NOTE\n",
    "\n",
    "        The most important method is __init__ and matters most. The other one\n",
    "        is just for more advanced topics and is useed here to demonstrate to you\n",
    "        how an instance is created.\n",
    "        \"\"\""
   ]
  },
  {
   "cell_type": "code",
   "execution_count": 5,
   "id": "55240a00-c2a2-44f2-9851-7cd64d1e1530",
   "metadata": {},
   "outputs": [
    {
     "name": "stdout",
     "output_type": "stream",
     "text": [
      "Instance 6 of the class has been created!\n",
      "We are now in the __init__ method of instance 6\n",
      "ID of the instance:  140497242537456\n",
      "Instance 7 of the class has been created!\n",
      "We are now in the __init__ method of instance 7\n",
      "ID of the instance:  140497646463552\n"
     ]
    }
   ],
   "source": [
    "# Regard the \"class\" definition above as a blueprint from which we can create many\n",
    "# different \"outcomes\" as we want. These will differ in the VALUES of ATTRIBUTES,\n",
    "# but not in the NAME of the ATTRIBUTES.\n",
    "\n",
    "for _ in range(2):\n",
    "    instance = Demo()\n",
    "\n",
    "    print(\"ID of the instance: \", id(instance))\n",
    "\n",
    "    # The IDs show you, that something new is created\n",
    "    # each time we call the Demo class using \"Demo()\"\n",
    "    # Thus, each instance we create can act on their own"
   ]
  },
  {
   "cell_type": "code",
   "execution_count": 6,
   "id": "426b7fa8-f6cb-4efe-8275-d39fc634b6e9",
   "metadata": {},
   "outputs": [],
   "source": [
    "# Here is an example that may demonstrate to you how\n",
    "# to apply the concept onto our application\n",
    "\n",
    "\n",
    "class DNASequence:\n",
    "    def __init__(self, sequence):\n",
    "        \"\"\"\n",
    "        Here we define the inputs to the class, which we will use\n",
    "        to set up the attributes. You will see that the input does\n",
    "        not have to all the attributes, but just those that are\n",
    "        necessary.\n",
    "\n",
    "        In this case, we only need the sequence, because we can\n",
    "        already calculate the GC_CONTENT using the sequence itself.\n",
    "\n",
    "        The \"self\" parameter now is the INSTANCE of the class, the unqiue\n",
    "        one with the ID that we want to create. We are now just adding\n",
    "        the necessary attributes.\n",
    "        \"\"\"\n",
    "\n",
    "        print(\">>> New instance: \", id(self))\n",
    "        print(\">>> Entering '__init__ method'\")\n",
    "\n",
    "        self.sequence = sequence  # Is now added to the class\n",
    "        self.gc_content = (sequence.count(\"G\") + sequence.count(\"C\")) / len(sequence)\n",
    "\n",
    "        print(f\"\\n#### Has attributes {self.__dict__}\\n\")"
   ]
  },
  {
   "cell_type": "code",
   "execution_count": 7,
   "id": "aa878920-b22e-4d1c-bed4-30d620873ba1",
   "metadata": {},
   "outputs": [
    {
     "name": "stdout",
     "output_type": "stream",
     "text": [
      ">>> New instance:  140497646466336\n",
      ">>> Entering '__init__ method'\n",
      "\n",
      "#### Has attributes {'sequence': 'ATGCGCG', 'gc_content': 0.7142857142857143}\n",
      "\n",
      "This is the ID of the instance in the variable:  140497646466336\n"
     ]
    }
   ],
   "source": [
    "# Lets use the class and create a first instance\n",
    "sequence1 = DNASequence(sequence=\"ATGCGCG\")\n",
    "print(\"This is the ID of the instance in the variable: \", id(sequence1))"
   ]
  },
  {
   "cell_type": "code",
   "execution_count": 8,
   "id": "679b4c71-1af2-4318-b80f-2e63f0e7ebb1",
   "metadata": {},
   "outputs": [
    {
     "name": "stdout",
     "output_type": "stream",
     "text": [
      ">>> New instance:  140497646465376\n",
      ">>> Entering '__init__ method'\n",
      "\n",
      "#### Has attributes {'sequence': 'GCGCGGC', 'gc_content': 1.0}\n",
      "\n",
      "This is the ID of the instance in the variable:  140497646465376\n"
     ]
    }
   ],
   "source": [
    "# Lets do another one\n",
    "sequence2 = DNASequence(sequence=\"GCGCGGC\")\n",
    "print(\"This is the ID of the instance in the variable: \", id(sequence2))"
   ]
  },
  {
   "cell_type": "markdown",
   "id": "e6eb93a8-40a6-4cb3-b0cc-e13274005cfd",
   "metadata": {},
   "source": [
    "### Conclusion\n",
    "\n",
    "We have set up a `DNASequence` class, which in its essence is a blueprint of ...\n",
    "\n",
    "- What is needed to create a DNA Sequence object? --> Arguments of the `__init__`\n",
    "- How can we set up the attributes?\n",
    "    - Simple assignment from the argument to the attribute --> `self.sequence = sequence`\n",
    "    - Or do something with argument, where the result is assigned to an attribute --> `self.gc_content`\n",
    "    \n",
    "With this type of \"recursion\", we can now create `DNASequence` objects by passing the `sequence` argument and its appropriate value (the gene). In return we store the sequence of course, but we also calculate the GC content since we have specified this in our `__init__`-method.\n",
    "\n",
    "This is the power of object-oriented programming, because we can be explicit about what makes up a DNA sequence without the user having to do all these calculations for us. In addition, we could derive far more information and all the user has to do is pass a sequence. Ultimately, the user can now access all the attributes and do something nice with it.\n",
    "\n",
    "In the next seminar, you will learn how to extend the functionality of a class, by adding \"actions\" to it, which will turn a class into a multifunctional tool ⚙️"
   ]
  },
  {
   "cell_type": "markdown",
   "id": "e07aa001-d73c-4ef3-9e94-7ee503818319",
   "metadata": {
    "tags": []
   },
   "source": [
    "## Using Notebooks"
   ]
  },
  {
   "cell_type": "markdown",
   "id": "1503e7c8-b58d-4ac7-a3b2-7fc88c170612",
   "metadata": {
    "tags": []
   },
   "source": [
    "### Code order"
   ]
  },
  {
   "cell_type": "markdown",
   "id": "c1fc0157-6199-41bf-bc3e-8488200ebdcb",
   "metadata": {},
   "source": [
    "- Jupyter notebooks are organized in cells, where each can be run independently\n",
    "- Variables are stored in a global container called `globals`\n",
    "    - These persist even after the cell has been executed\n",
    "- The above can lead to problems when re-running a notebook -> Globals are cleared!"
   ]
  },
  {
   "cell_type": "markdown",
   "id": "3f9bc001-ac75-438f-8f06-f7c1b2264752",
   "metadata": {
    "tags": []
   },
   "source": [
    "#### Example #1"
   ]
  },
  {
   "cell_type": "code",
   "execution_count": null,
   "id": "062aec81-9f8a-4b10-b2d2-fb6b09b84b70",
   "metadata": {},
   "outputs": [],
   "source": [
    "# Works only if I manually run the\n",
    "# next cell\n",
    "# print(hello)"
   ]
  },
  {
   "cell_type": "code",
   "execution_count": null,
   "id": "cb1fb672-c365-4e2a-b2e6-324108244157",
   "metadata": {},
   "outputs": [],
   "source": [
    "hello = \"Hello world\""
   ]
  },
  {
   "cell_type": "code",
   "execution_count": null,
   "id": "b2ba6a0a-f03a-4cc8-9b7c-65fbb13372ac",
   "metadata": {},
   "outputs": [],
   "source": [
    "globals()[\"hello\"]"
   ]
  },
  {
   "cell_type": "markdown",
   "id": "6a74fa36-61ba-4250-b9d5-d7254610997e",
   "metadata": {
    "tags": []
   },
   "source": [
    "#### Example #2"
   ]
  },
  {
   "cell_type": "code",
   "execution_count": null,
   "id": "01a5d199-d50e-4784-98ce-964dd36fd73c",
   "metadata": {},
   "outputs": [],
   "source": [
    "hello = \"Hello world\""
   ]
  },
  {
   "cell_type": "code",
   "execution_count": null,
   "id": "af04916b-f610-4275-ac14-b238e79b81fc",
   "metadata": {},
   "outputs": [],
   "source": [
    "# Will always work, since the cell above\n",
    "# defines the variable\n",
    "print(hello)"
   ]
  },
  {
   "cell_type": "markdown",
   "id": "12cb52ab-5146-4c92-81fc-5a916eabc945",
   "metadata": {
    "tags": []
   },
   "source": [
    "#### Example #3"
   ]
  },
  {
   "cell_type": "code",
   "execution_count": null,
   "id": "de9478e4-78db-4654-ac2c-6dfe861f8576",
   "metadata": {},
   "outputs": [],
   "source": [
    "hidden = \"This variable is hidden!\""
   ]
  },
  {
   "cell_type": "code",
   "execution_count": null,
   "id": "c4f48305-4725-42aa-9bd7-572c4ebe4d3e",
   "metadata": {},
   "outputs": [],
   "source": [
    "# Lets assume you executed above cell,\n",
    "# but you've deleted it\n",
    "print(hidden)\n",
    "\n",
    "# Should work as is! Upon restart though, you would get an error,\n",
    "# since there is no cell that defines the variable"
   ]
  },
  {
   "cell_type": "code",
   "execution_count": null,
   "id": "8ec9092f-daaf-4ca2-ac16-c879be6b18b7",
   "metadata": {},
   "outputs": [],
   "source": [
    "# Lets assume you executed above cell,\n",
    "# but you've deleted it\n",
    "print(hidden)\n",
    "\n",
    "# Should work as is! Upon restart though, you would get an error,\n",
    "# since there is no cell that defines the variable"
   ]
  },
  {
   "cell_type": "markdown",
   "id": "38a872f5-dd03-4924-aacd-ee9ec243c0cf",
   "metadata": {
    "tags": []
   },
   "source": [
    "## Clustering"
   ]
  },
  {
   "cell_type": "markdown",
   "id": "800e94f5-e6a1-492b-a925-d2b971aa883a",
   "metadata": {
    "tags": []
   },
   "source": [
    "### Algorithms"
   ]
  },
  {
   "cell_type": "code",
   "execution_count": null,
   "id": "f5e0c345-382e-4eb9-891b-de9dffbbaf92",
   "metadata": {},
   "outputs": [],
   "source": [
    "import random\n",
    "\n",
    "import matplotlib.pyplot as plt\n",
    "import pandas as pd\n",
    "import seaborn as sns\n",
    "from sklearn.datasets import load_digits\n",
    "from sklearn.decomposition import PCA\n",
    "\n",
    "sns.set(palette=\"tab10\", style=\"white\")"
   ]
  },
  {
   "cell_type": "code",
   "execution_count": null,
   "id": "0a111afa-6eef-45b2-9321-4d3fb81f8630",
   "metadata": {},
   "outputs": [],
   "source": [
    "# Digits are used to find clusters\n",
    "df = load_digits(as_frame=True)[\"data\"]"
   ]
  },
  {
   "cell_type": "code",
   "execution_count": null,
   "id": "2782887c-e31e-4ad4-a125-adc21815ac23",
   "metadata": {},
   "outputs": [],
   "source": [
    "f, ax = plt.subplots(1, 7)\n",
    "for number in range(0, 7):\n",
    "    image = df.iloc[random.randint(0, df.shape[0]), :].values.reshape(8, 8)\n",
    "\n",
    "    ax[number].imshow(image)"
   ]
  },
  {
   "cell_type": "code",
   "execution_count": null,
   "id": "22b2c15d-58ec-410e-a5ab-90cad2ac3fe9",
   "metadata": {},
   "outputs": [],
   "source": [
    "def perform_pca_viz(labels, ax):\n",
    "    pca = PCA().fit_transform(df)\n",
    "    df_plot = pd.DataFrame({\"x\": pca[:, 0], \"y\": pca[:, 1], \"number\": labels})\n",
    "\n",
    "    sns.scatterplot(data=df_plot, x=\"x\", y=\"y\", hue=\"number\", cmap=\"tab10\", ax=ax)"
   ]
  },
  {
   "cell_type": "code",
   "execution_count": null,
   "id": "a13e576b-4834-420b-963e-ffdc0634dc9d",
   "metadata": {},
   "outputs": [],
   "source": [
    "# PCA of the data\n",
    "labels = load_digits(as_frame=True)[\"target\"]\n",
    "\n",
    "f, ax = plt.subplots(1)\n",
    "perform_pca_viz(labels, ax)"
   ]
  },
  {
   "cell_type": "markdown",
   "id": "25eb6da8-8668-4e9b-827d-8c3e91e48f53",
   "metadata": {},
   "source": [
    "#### Agglomerative Clustering\n",
    "\n",
    "- Bottom-up clustering, from smaller clusters to bigger clusters\n",
    "\n",
    "Pros:\n",
    "\n",
    "- Detailled clustering, very precise\n",
    "- Sub-clusters can be visualized in a tree\n",
    "\n",
    "Cons:\n",
    "\n",
    "- Requires cluster number\n",
    "- Doesnt scale well"
   ]
  },
  {
   "cell_type": "code",
   "execution_count": null,
   "id": "bc7f5667-10ec-4e80-a383-38fa5a649953",
   "metadata": {},
   "outputs": [],
   "source": [
    "from sklearn.cluster import AgglomerativeClustering\n",
    "\n",
    "agg_clust = AgglomerativeClustering(n_clusters=10)\n",
    "agg_labels = agg_clust.fit_predict(df)\n",
    "\n",
    "\n",
    "f, ax = plt.subplots(1, 2, figsize=(10, 5))\n",
    "perform_pca_viz(agg_labels, ax[0])\n",
    "perform_pca_viz(labels, ax[1])"
   ]
  },
  {
   "cell_type": "markdown",
   "id": "6d2138fc-cc9e-466c-8a26-82ea8065b3b6",
   "metadata": {},
   "source": [
    "#### Spectral Clustering\n",
    "\n",
    "- Converts datapoints to a graph -> Does not persist metrics\n",
    "- Application of spectral embedding from graph theory result in a separation\n",
    "\n",
    "Pros:\n",
    "\n",
    "- Independent to a metric -> Includes outliers\n",
    "- Graph can be visualized for more graph analysis, which is quite strong\n",
    "\n",
    "Cons:\n",
    "\n",
    "- Doesnt scale well and sometimes doesnt work (as in this example)\n",
    "- Loss of metric can be bad in certain applications"
   ]
  },
  {
   "cell_type": "code",
   "execution_count": null,
   "id": "6b2a6bb4-fcac-440b-b6e3-de56e99c7c2b",
   "metadata": {},
   "outputs": [],
   "source": [
    "from sklearn.cluster import SpectralClustering\n",
    "\n",
    "spec_clust = SpectralClustering(n_clusters=10, n_jobs=-1)\n",
    "spec_labels = spec_clust.fit_predict(df)\n",
    "\n",
    "f, ax = plt.subplots(1, 2, figsize=(10, 5))\n",
    "perform_pca_viz(spec_labels, ax[0])\n",
    "perform_pca_viz(labels, ax[1])"
   ]
  },
  {
   "cell_type": "markdown",
   "id": "66336efb-5762-403a-a84f-37ab0bb04d08",
   "metadata": {},
   "source": [
    "#### Affinity Propagation\n",
    "\n",
    "- Clusters by \"message-passing\"\n",
    "- Finds representatives as cluster centers\n",
    "\n",
    "Pros:\n",
    "\n",
    "- No cluster number needed\n",
    "- Superior to K-Means in Computer Vision and Bioinformatics\n",
    "\n",
    "Cons:\n",
    "\n",
    "- Scales quadratically and thus not very well with large datasets"
   ]
  },
  {
   "cell_type": "code",
   "execution_count": null,
   "id": "4a1c4764-44d7-41d2-b06f-3341ce6a4367",
   "metadata": {},
   "outputs": [],
   "source": [
    "from sklearn.cluster import AffinityPropagation\n",
    "\n",
    "aff_clust = AffinityPropagation()\n",
    "aff_labels = aff_clust.fit_predict(df)\n",
    "\n",
    "f, ax = plt.subplots(1, 2, figsize=(10, 5))\n",
    "perform_pca_viz(aff_labels, ax[0])\n",
    "perform_pca_viz(labels, ax[1])"
   ]
  },
  {
   "cell_type": "markdown",
   "id": "00b22266-6294-475a-936e-37b7832d1624",
   "metadata": {
    "tags": []
   },
   "source": [
    "### Clustering optimization\n",
    "\n",
    "__You might notice, most algorithms need to be parametrized correctly to get suitable results!__\n",
    "\n",
    "Thats where metrics and optimization algorithms can help.\n",
    "\n",
    "### Metrics\n",
    "\n",
    "Silhouette score - https://scikit-learn.org/stable/modules/generated/sklearn.metrics.silhouette_score.html\n",
    "\n",
    "(Adjusted) Rand Index - https://scikit-learn.org/stable/modules/generated/sklearn.metrics.rand_score.html\n",
    "\n",
    "Mutual information - https://scikit-learn.org/stable/modules/generated/sklearn.metrics.mutual_info_score.html\n",
    "\n",
    "Calinski-Harabasz Index - https://scikit-learn.org/stable/modules/generated/sklearn.metrics.calinski_harabasz_score.html\n",
    "\n",
    "### Optimization\n",
    "\n",
    "Overview - https://scikit-learn.org/stable/modules/grid_search.html\n"
   ]
  }
 ],
 "metadata": {
  "kernelspec": {
   "display_name": "Python 3 (ipykernel)",
   "language": "python",
   "name": "python3"
  },
  "language_info": {
   "codemirror_mode": {
    "name": "ipython",
    "version": 3
   },
   "file_extension": ".py",
   "mimetype": "text/x-python",
   "name": "python",
   "nbconvert_exporter": "python",
   "pygments_lexer": "ipython3",
   "version": "3.10.9"
  }
 },
 "nbformat": 4,
 "nbformat_minor": 5
}
