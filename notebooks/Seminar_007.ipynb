{
 "cells": [
  {
   "cell_type": "markdown",
   "id": "b6a728b2-fc2f-40d4-ada3-a876cdac0999",
   "metadata": {},
   "source": [
    "# Seminar 007: Extending Methods"
   ]
  },
  {
   "cell_type": "markdown",
   "id": "a8096bf6-a7f2-4345-91c1-e8ce8154646c",
   "metadata": {},
   "source": [
    "------"
   ]
  },
  {
   "cell_type": "markdown",
   "id": "0ecaf7e7-31a0-4e10-8e37-f4935402ce76",
   "metadata": {},
   "source": [
    "## Notes"
   ]
  },
  {
   "cell_type": "code",
   "execution_count": 14,
   "id": "89dd4174-383d-49a5-8536-65e23ffe53cd",
   "metadata": {},
   "outputs": [],
   "source": [
    "class DNASequence:\n",
    "    def __init__(self, ID, sequence):\n",
    "        \"\"\"This is a class to define a DNA sequence.\n",
    "\n",
    "        Args:\n",
    "            ID (str): The identifier of this sequence.\n",
    "            sequence (str): The sequence of this gene.\n",
    "        \"\"\"\n",
    "\n",
    "        self.ID = ID\n",
    "        self.sequence = sequence\n",
    "\n",
    "        self.length = len(self.sequence)\n",
    "\n",
    "    def get_sequence(self):\n",
    "        return self.sequence\n",
    "\n",
    "    @staticmethod\n",
    "    def add_sequences(sequence1, sequence2):\n",
    "        return sequence1 + sequence2\n",
    "\n",
    "    @classmethod\n",
    "    def from_special_format(cls, format_: str):\n",
    "        # \"1024__AGAGGATGATC\"\n",
    "\n",
    "        ID, sequence = format_.split(\"__\")\n",
    "\n",
    "        # Equivalent to: DNASequence(ID, sequence)\n",
    "        return cls(ID, sequence)"
   ]
  },
  {
   "cell_type": "code",
   "execution_count": 7,
   "id": "0cfa543f-3da0-4443-8953-978a60279bfb",
   "metadata": {},
   "outputs": [
    {
     "data": {
      "text/plain": [
       "<__main__.DNASequence at 0x7f7b7849bf10>"
      ]
     },
     "execution_count": 7,
     "metadata": {},
     "output_type": "execute_result"
    }
   ],
   "source": [
    "instance = DNASequence(\"Hello\", \"AGTAGTAGC\")\n",
    "instance"
   ]
  },
  {
   "cell_type": "code",
   "execution_count": 8,
   "id": "25407a48-a3d5-4fb6-85fa-5be88c6d8a23",
   "metadata": {},
   "outputs": [
    {
     "data": {
      "text/plain": [
       "'AGTAGTAGC'"
      ]
     },
     "execution_count": 8,
     "metadata": {},
     "output_type": "execute_result"
    }
   ],
   "source": [
    "instance.get_sequence()"
   ]
  },
  {
   "cell_type": "code",
   "execution_count": 9,
   "id": "02635b0b-5119-4c37-ac07-2900c6e182d0",
   "metadata": {},
   "outputs": [
    {
     "data": {
      "text/plain": [
       "'AGAGAGTGAT'"
      ]
     },
     "execution_count": 9,
     "metadata": {},
     "output_type": "execute_result"
    }
   ],
   "source": [
    "instance2 = DNASequence(\"Hello2\", \"AGAGAGTGAT\")\n",
    "instance2.get_sequence()"
   ]
  },
  {
   "cell_type": "code",
   "execution_count": 10,
   "id": "ab536269-daf3-446c-a266-5e5ca34974e6",
   "metadata": {},
   "outputs": [
    {
     "data": {
      "text/plain": [
       "'GAGTAGTGATGGGTAG'"
      ]
     },
     "execution_count": 13,
     "metadata": {},
     "output_type": "execute_result"
    }
   ],
   "source": [
    "instance.add_sequences(\"GAGTAGT\", \"GATGGGTAG\")"
   ]
  },
  {
   "cell_type": "code",
   "execution_count": 11,
   "id": "df8bf944-7649-4309-855d-08e6fd1752d0",
   "metadata": {},
   "outputs": [
    {
     "data": {
      "text/plain": [
       "'GAGTAGTGATGGGTAG'"
      ]
     },
     "execution_count": 11,
     "metadata": {},
     "output_type": "execute_result"
    }
   ],
   "source": [
    "instance2.add_sequences(\"GAGTAGT\", \"GATGGGTAG\")"
   ]
  },
  {
   "cell_type": "code",
   "execution_count": 15,
   "id": "77833bc0-7f53-4976-953a-f5ad9030adc3",
   "metadata": {},
   "outputs": [],
   "source": [
    "format_ = \"1024__AGAGGATGATC\"\n",
    "instance3 = DNASequence.from_special_format(format_)"
   ]
  },
  {
   "cell_type": "code",
   "execution_count": 16,
   "id": "ce953d1b-8b37-4395-a458-8048d5820a49",
   "metadata": {},
   "outputs": [
    {
     "data": {
      "text/plain": [
       "{'ID': '1024', 'sequence': 'AGAGGATGATC', 'length': 11}"
      ]
     },
     "execution_count": 16,
     "metadata": {},
     "output_type": "execute_result"
    }
   ],
   "source": [
    "instance3.__dict__"
   ]
  },
  {
   "cell_type": "code",
   "execution_count": null,
   "id": "ccd8d156-bd1a-4b0d-994b-9bb8c84cb4ef",
   "metadata": {},
   "outputs": [],
   "source": []
  }
 ],
 "metadata": {
  "kernelspec": {
   "display_name": "Python 3 (ipykernel)",
   "language": "python",
   "name": "python3"
  },
  "language_info": {
   "codemirror_mode": {
    "name": "ipython",
    "version": 3
   },
   "file_extension": ".py",
   "mimetype": "text/x-python",
   "name": "python",
   "nbconvert_exporter": "python",
   "pygments_lexer": "ipython3",
   "version": "3.10.9"
  }
 },
 "nbformat": 4,
 "nbformat_minor": 5
}
