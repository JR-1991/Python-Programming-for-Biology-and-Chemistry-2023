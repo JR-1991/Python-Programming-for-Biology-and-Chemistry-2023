{
 "cells": [
  {
   "cell_type": "markdown",
   "id": "b6a728b2-fc2f-40d4-ada3-a876cdac0999",
   "metadata": {},
   "source": [
    "# Seminar 003: Gathering sequence properties"
   ]
  },
  {
   "cell_type": "markdown",
   "id": "a8096bf6-a7f2-4345-91c1-e8ce8154646c",
   "metadata": {},
   "source": [
    "------"
   ]
  },
  {
   "cell_type": "markdown",
   "id": "0ecaf7e7-31a0-4e10-8e37-f4935402ce76",
   "metadata": {},
   "source": [
    "## Notes"
   ]
  },
  {
   "cell_type": "code",
   "execution_count": null,
   "id": "89dd4174-383d-49a5-8536-65e23ffe53cd",
   "metadata": {},
   "outputs": [],
   "source": []
  },
  {
   "cell_type": "markdown",
   "id": "1348f1b6-6263-46c6-87ae-a15755908d16",
   "metadata": {
    "tags": []
   },
   "source": [
    "## Functions"
   ]
  },
  {
   "cell_type": "markdown",
   "id": "a8a3c864-038d-4523-af7d-397d93ea5426",
   "metadata": {
    "tags": []
   },
   "source": [
    "### Why?"
   ]
  },
  {
   "cell_type": "code",
   "execution_count": 2,
   "id": "a34fdf4c-b3cf-481e-97de-7ec0009ff94a",
   "metadata": {},
   "outputs": [
    {
     "name": "stdout",
     "output_type": "stream",
     "text": [
      "0.4472135954999579\n"
     ]
    }
   ],
   "source": [
    "import math\n",
    "\n",
    "# Task: Calculate the inverse square root of numbers 1 to 100\n",
    "\n",
    "number_1 = 1 / math.sqrt(1)\n",
    "number_2 = 1 / math.sqrt(2)\n",
    "number_3 = 1 / math.sqrt(3)\n",
    "number_4 = 1 / math.sqrt(4)\n",
    "number_5 = 1 / math.sqrt(5)\n",
    "\n",
    "# ... and so on\n",
    "\n",
    "# Copy and past or even re-writing can be quite faulty!\n",
    "# Dont let you trick from this simple example\n",
    "\n",
    "print(number_5)"
   ]
  },
  {
   "cell_type": "markdown",
   "id": "d9ce67f3-a97f-4ed3-95e1-5087067bf893",
   "metadata": {
    "tags": []
   },
   "source": [
    "### Use a function"
   ]
  },
  {
   "cell_type": "code",
   "execution_count": 7,
   "id": "4ccb69c9-5609-4f7b-92ae-efebac6d7c05",
   "metadata": {},
   "outputs": [],
   "source": [
    "def get_inverse_square_root(number: int):\n",
    "    \"\"\"Calculates the inverse square root of a number\"\"\"\n",
    "\n",
    "    result = 1 / math.sqrt(number)\n",
    "\n",
    "    return result"
   ]
  },
  {
   "cell_type": "code",
   "execution_count": 8,
   "id": "2e886021-3923-4cd1-9294-3aed9c8883ac",
   "metadata": {},
   "outputs": [
    {
     "name": "stdout",
     "output_type": "stream",
     "text": [
      "0.007090237366685696\n"
     ]
    }
   ],
   "source": [
    "inv_sqrt = get_inverse_square_root(19892)\n",
    "print(inv_sqrt)"
   ]
  },
  {
   "cell_type": "code",
   "execution_count": 19,
   "id": "ab56392b-917c-4425-81e1-4842e0443a77",
   "metadata": {
    "collapsed": true,
    "jupyter": {
     "outputs_hidden": true
    },
    "tags": []
   },
   "outputs": [
    {
     "name": "stdout",
     "output_type": "stream",
     "text": [
      "1.0\n",
      "0.7071067811865475\n",
      "0.5773502691896258\n",
      "0.5\n",
      "0.4472135954999579\n",
      "0.4082482904638631\n",
      "0.3779644730092272\n",
      "0.35355339059327373\n",
      "0.3333333333333333\n",
      "0.31622776601683794\n",
      "0.30151134457776363\n",
      "0.2886751345948129\n",
      "0.2773500981126146\n",
      "0.2672612419124244\n",
      "0.2581988897471611\n",
      "0.25\n",
      "0.24253562503633297\n",
      "0.23570226039551587\n",
      "0.22941573387056174\n",
      "0.22360679774997896\n",
      "0.2182178902359924\n",
      "0.21320071635561041\n",
      "0.20851441405707477\n",
      "0.20412414523193154\n",
      "0.2\n",
      "0.19611613513818404\n",
      "0.19245008972987526\n",
      "0.1889822365046136\n",
      "0.18569533817705186\n",
      "0.18257418583505536\n",
      "0.1796053020267749\n",
      "0.17677669529663687\n",
      "0.17407765595569785\n",
      "0.17149858514250882\n",
      "0.1690308509457033\n",
      "0.16666666666666666\n",
      "0.1643989873053573\n",
      "0.16222142113076254\n",
      "0.16012815380508713\n",
      "0.15811388300841897\n",
      "0.15617376188860607\n",
      "0.1543033499620919\n",
      "0.15249857033260467\n",
      "0.15075567228888181\n",
      "0.14907119849998599\n",
      "0.14744195615489714\n",
      "0.14586499149789456\n",
      "0.14433756729740646\n",
      "0.14285714285714285\n",
      "0.1414213562373095\n",
      "0.14002800840280097\n",
      "0.1386750490563073\n",
      "0.13736056394868904\n",
      "0.13608276348795434\n",
      "0.13483997249264842\n",
      "0.1336306209562122\n",
      "0.13245323570650439\n",
      "0.13130643285972254\n",
      "0.13018891098082389\n",
      "0.12909944487358055\n",
      "0.12803687993289598\n",
      "0.1270001270001905\n",
      "0.1259881576697424\n",
      "0.125\n",
      "0.12403473458920847\n",
      "0.12309149097933272\n",
      "0.12216944435630522\n",
      "0.12126781251816648\n",
      "0.1203858530857692\n",
      "0.11952286093343936\n",
      "0.11867816581938533\n",
      "0.11785113019775793\n",
      "0.11704114719613057\n",
      "0.11624763874381928\n",
      "0.11547005383792514\n",
      "0.11470786693528087\n",
      "0.11396057645963795\n",
      "0.11322770341445956\n",
      "0.1125087900926024\n",
      "0.11180339887498948\n",
      "0.1111111111111111\n",
      "0.11043152607484653\n",
      "0.10976425998969035\n",
      "0.1091089451179962\n",
      "0.10846522890932808\n",
      "0.10783277320343841\n",
      "0.10721125348377948\n",
      "0.10660035817780521\n",
      "0.105999788000636\n",
      "0.10540925533894598\n",
      "0.10482848367219183\n",
      "0.10425720702853739\n",
      "0.10369516947304253\n",
      "0.10314212462587934\n",
      "0.10259783520851541\n",
      "0.10206207261596577\n",
      "0.10153461651336192\n",
      "0.10101525445522107\n",
      "0.10050378152592121\n"
     ]
    }
   ],
   "source": [
    "for i in range(1, 100):\n",
    "    inv_sqrt = get_inverse_square_root(i)\n",
    "    print(inv_sqrt)\n",
    "\n",
    "    # \"0.3456\\n\"\n",
    "    # do something else"
   ]
  },
  {
   "cell_type": "markdown",
   "id": "ccda41f5-7fa8-47dd-87e3-dd32be448db1",
   "metadata": {
    "tags": []
   },
   "source": [
    "### Reasons to use functions"
   ]
  },
  {
   "cell_type": "markdown",
   "id": "ef6639ce-0b6c-41b5-b15d-9501f85f6459",
   "metadata": {},
   "source": [
    "- __Define it once, use it everywhere__ - Re-usability across applications\n",
    "- __Reduce overhead code__ - Split complex code into a series of functions\n",
    "- __Standardize a process__ - Process A requires X,Y,Z and returns A,B,C\n",
    "- __Share your code__ - Functions can be imported from your scripts"
   ]
  },
  {
   "cell_type": "markdown",
   "id": "a742387c-4f56-47eb-b808-0c63832a73c0",
   "metadata": {
    "tags": []
   },
   "source": [
    "### Arguments and returns"
   ]
  },
  {
   "cell_type": "code",
   "execution_count": 7,
   "id": "67f4c64b-c495-4ca8-9a8f-103cbba7eb7f",
   "metadata": {},
   "outputs": [
    {
     "name": "stdout",
     "output_type": "stream",
     "text": [
      "Inside function has arguments:  Hello\n",
      "Function returned:  something\n"
     ]
    }
   ],
   "source": [
    "# Functions can take input and return something\n",
    "def my_function(arguments):\n",
    "    # do something\n",
    "    print(\"Inside function has arguments: \", arguments)\n",
    "    return \"something\"\n",
    "\n",
    "returned= my_function(\"Hello\")\n",
    "print(\"Function returned: \", returned)"
   ]
  },
  {
   "cell_type": "markdown",
   "id": "f7f45267-ba90-436f-8477-19d1c269d80b",
   "metadata": {
    "tags": []
   },
   "source": [
    "### Understanding the variable scope"
   ]
  },
  {
   "cell_type": "code",
   "execution_count": 14,
   "id": "591f930c-c65b-4520-8096-dc3d315f9cdd",
   "metadata": {},
   "outputs": [
    {
     "name": "stdout",
     "output_type": "stream",
     "text": [
      "Calling non-argument variable:  Outside\n",
      "Calling argument variable:  Inside\n",
      "Variable outside of function:  Outside\n",
      "Changed variable:  [1, 2, 3, 3, 10]\n"
     ]
    }
   ],
   "source": [
    "some_variable = \"Outside\"\n",
    "some_list = [1,2,3,3]\n",
    "another_variable = \"Outside\"\n",
    "\n",
    "def my_function(another_variable):\n",
    "    print(\"Calling non-argument variable: \", some_variable)\n",
    "    print(\"Calling argument variable: \", another_variable)\n",
    "\n",
    "    some_list.append(10)\n",
    "\n",
    "my_function(\"Inside\")\n",
    "print(\"Variable outside of function: \", another_variable)\n",
    "print(\"Changed variable: \", some_list)"
   ]
  },
  {
   "cell_type": "code",
   "execution_count": 20,
   "id": "271469a0-c3d9-4832-9209-5a61521e1298",
   "metadata": {},
   "outputs": [],
   "source": [
    "def take_a_number(number: int):\n",
    "\n",
    "    if isinstance(number, int) is False:\n",
    "        raise TypeError(\"This requires a string!!!!\")\n",
    "\n",
    "    print(number)"
   ]
  },
  {
   "cell_type": "code",
   "execution_count": 23,
   "id": "cc83a446-646b-412b-aa19-92d746359838",
   "metadata": {},
   "outputs": [
    {
     "ename": "TypeError",
     "evalue": "This requires a string!!!!",
     "output_type": "error",
     "traceback": [
      "\u001b[0;31m---------------------------------------------------------------------------\u001b[0m",
      "\u001b[0;31mTypeError\u001b[0m                                 Traceback (most recent call last)",
      "Input \u001b[0;32mIn [23]\u001b[0m, in \u001b[0;36m<cell line: 1>\u001b[0;34m()\u001b[0m\n\u001b[0;32m----> 1\u001b[0m \u001b[43mtake_a_number\u001b[49m\u001b[43m(\u001b[49m\u001b[38;5;241;43m10.0\u001b[39;49m\u001b[43m)\u001b[49m\n",
      "Input \u001b[0;32mIn [20]\u001b[0m, in \u001b[0;36mtake_a_number\u001b[0;34m(number)\u001b[0m\n\u001b[1;32m      1\u001b[0m \u001b[38;5;28;01mdef\u001b[39;00m \u001b[38;5;21mtake_a_number\u001b[39m(number: \u001b[38;5;28mint\u001b[39m):\n\u001b[1;32m      3\u001b[0m     \u001b[38;5;28;01mif\u001b[39;00m \u001b[38;5;28misinstance\u001b[39m(number, \u001b[38;5;28mint\u001b[39m) \u001b[38;5;129;01mis\u001b[39;00m \u001b[38;5;28;01mFalse\u001b[39;00m:\n\u001b[0;32m----> 4\u001b[0m         \u001b[38;5;28;01mraise\u001b[39;00m \u001b[38;5;167;01mTypeError\u001b[39;00m(\u001b[38;5;124m\"\u001b[39m\u001b[38;5;124mThis requires a string!!!!\u001b[39m\u001b[38;5;124m\"\u001b[39m)\n\u001b[1;32m      6\u001b[0m     \u001b[38;5;28mprint\u001b[39m(number)\n",
      "\u001b[0;31mTypeError\u001b[0m: This requires a string!!!!"
     ]
    }
   ],
   "source": [
    "take_a_number(10.0)"
   ]
  },
  {
   "cell_type": "markdown",
   "id": "9ae998b2-34a4-4c31-ac4e-3e58d3bf3f86",
   "metadata": {
    "tags": []
   },
   "source": [
    "### Tips on using functions"
   ]
  },
  {
   "cell_type": "markdown",
   "id": "c81e4155-87ae-4bc2-887b-8840e87cafd0",
   "metadata": {},
   "source": [
    "- Keep it simple, a function should only have one job.\n",
    "- Dont hesitate defining multiple small functions instead of a big one\n",
    "- Include at least a brief summary of what your function is doing\n",
    "- Think about generalization - How can my function be applied to deviating cases?\n",
    "- Put your functions in another script and import them to reduce overhead"
   ]
  }
 ],
 "metadata": {
  "kernelspec": {
   "display_name": "Python 3 (ipykernel)",
   "language": "python",
   "name": "python3"
  },
  "language_info": {
   "codemirror_mode": {
    "name": "ipython",
    "version": 3
   },
   "file_extension": ".py",
   "mimetype": "text/x-python",
   "name": "python",
   "nbconvert_exporter": "python",
   "pygments_lexer": "ipython3",
   "version": "3.10.9"
  }
 },
 "nbformat": 4,
 "nbformat_minor": 5
}
